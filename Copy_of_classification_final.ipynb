{
  "nbformat": 4,
  "nbformat_minor": 0,
  "metadata": {
    "colab": {
      "provenance": [],
      "toc_visible": true
    },
    "kernelspec": {
      "name": "python3",
      "display_name": "Python 3"
    },
    "language_info": {
      "name": "python"
    },
    "accelerator": "GPU",
    "gpuClass": "standard"
  },
  "cells": [
    {
      "cell_type": "code",
      "execution_count": null,
      "metadata": {
        "id": "UZhF0c03rMRC"
      },
      "outputs": [],
      "source": [
        "!mkdir -p ~/.kaggle\n",
        "!cp kaggle.json ~/.kaggle/"
      ]
    },
    {
      "cell_type": "code",
      "source": [
        "!kaggle datasets download -d ismailpromus/skin-diseases-dataset-processed\n"
      ],
      "metadata": {
        "colab": {
          "base_uri": "https://localhost:8080/"
        },
        "id": "lrAZdCkorXhb",
        "outputId": "53b1b217-3887-4e7e-8b73-a03af8cc021a"
      },
      "execution_count": null,
      "outputs": [
        {
          "output_type": "stream",
          "name": "stdout",
          "text": [
            "Warning: Your Kaggle API key is readable by other users on this system! To fix this, you can run 'chmod 600 /root/.kaggle/kaggle.json'\n",
            "Downloading skin-diseases-dataset-processed.zip to /content\n",
            "100% 2.51G/2.51G [01:51<00:00, 24.0MB/s]\n",
            "100% 2.51G/2.51G [01:51<00:00, 24.2MB/s]\n"
          ]
        }
      ]
    },
    {
      "cell_type": "code",
      "source": [
        "import zipfile\n",
        "zip_ref = zipfile.ZipFile('/content/skin-diseases-dataset-processed.zip','r')\n",
        "zip_ref.extractall('/content')\n",
        "zip_ref.close()"
      ],
      "metadata": {
        "id": "PT4Berb-rdP1"
      },
      "execution_count": null,
      "outputs": []
    },
    {
      "cell_type": "code",
      "source": [
        "from tensorflow.keras.layers import Input, Lambda, Dense, Flatten\n",
        "from tensorflow.keras.models import Model\n",
        "from tensorflow.keras.applications.inception_v3 import InceptionV3\n",
        "from tensorflow.keras.applications.inception_v3 import preprocess_input\n",
        "from tensorflow.keras.preprocessing import image\n",
        "from tensorflow.keras.preprocessing.image import ImageDataGenerator,load_img\n",
        "from tensorflow.keras.models import Sequential\n",
        "import numpy as np\n",
        "from tensorflow import keras\n",
        "from glob import glob\n",
        "#import matplotlib.pyplot as plt"
      ],
      "metadata": {
        "id": "IgAE60i8rg86"
      },
      "execution_count": null,
      "outputs": []
    },
    {
      "cell_type": "code",
      "source": [
        "IMAGE_SIZE = [224, 224]\n",
        "\n",
        "train_path = '/content/Processed TVT/ train'\n",
        "test_path = '/content/Processed TVT/ test'\n",
        "valid_path = '/content/Processed TVT/ valid'"
      ],
      "metadata": {
        "id": "O6yuQkrTs00k"
      },
      "execution_count": null,
      "outputs": []
    },
    {
      "cell_type": "code",
      "source": [],
      "metadata": {
        "id": "c3OwRoGI2raf"
      },
      "execution_count": null,
      "outputs": []
    },
    {
      "cell_type": "code",
      "source": [
        "for layer in inception.layers:\n",
        "    layer.trainable = False"
      ],
      "metadata": {
        "id": "qW86EPqOs7cG"
      },
      "execution_count": null,
      "outputs": []
    },
    {
      "cell_type": "code",
      "source": [
        "folders = glob('/content/Processed TVT/ train/ vasc')\n",
        "print(folders)\n",
        "print(len(folders))"
      ],
      "metadata": {
        "colab": {
          "base_uri": "https://localhost:8080/",
          "height": 200
        },
        "id": "rwBPhL7gs_GG",
        "outputId": "a1a561c6-e9b6-43d5-b59e-ba9e71a94e7e"
      },
      "execution_count": null,
      "outputs": [
        {
          "output_type": "error",
          "ename": "NameError",
          "evalue": "ignored",
          "traceback": [
            "\u001b[0;31m---------------------------------------------------------------------------\u001b[0m",
            "\u001b[0;31mNameError\u001b[0m                                 Traceback (most recent call last)",
            "\u001b[0;32m<ipython-input-1-d6936e4a0876>\u001b[0m in \u001b[0;36m<module>\u001b[0;34m\u001b[0m\n\u001b[0;32m----> 1\u001b[0;31m \u001b[0mfolders\u001b[0m \u001b[0;34m=\u001b[0m \u001b[0mglob\u001b[0m\u001b[0;34m(\u001b[0m\u001b[0;34m'/content/Processed TVT/ train/ vasc'\u001b[0m\u001b[0;34m)\u001b[0m\u001b[0;34m\u001b[0m\u001b[0;34m\u001b[0m\u001b[0m\n\u001b[0m\u001b[1;32m      2\u001b[0m \u001b[0mprint\u001b[0m\u001b[0;34m(\u001b[0m\u001b[0mfolders\u001b[0m\u001b[0;34m)\u001b[0m\u001b[0;34m\u001b[0m\u001b[0;34m\u001b[0m\u001b[0m\n\u001b[1;32m      3\u001b[0m \u001b[0mprint\u001b[0m\u001b[0;34m(\u001b[0m\u001b[0mlen\u001b[0m\u001b[0;34m(\u001b[0m\u001b[0mfolders\u001b[0m\u001b[0;34m)\u001b[0m\u001b[0;34m)\u001b[0m\u001b[0;34m\u001b[0m\u001b[0;34m\u001b[0m\u001b[0m\n",
            "\u001b[0;31mNameError\u001b[0m: name 'glob' is not defined"
          ]
        }
      ]
    },
    {
      "cell_type": "code",
      "source": [
        "x = Flatten()(inception.output)"
      ],
      "metadata": {
        "id": "gqrYdfYmtC24"
      },
      "execution_count": null,
      "outputs": []
    },
    {
      "cell_type": "code",
      "source": [
        "prediction = Dense(len(folders), activation='softmax')(x)\n",
        "\n",
        "# create a model object\n",
        "model = Model(inputs=inception.input, outputs=prediction)"
      ],
      "metadata": {
        "id": "scmKIn-YtFEd"
      },
      "execution_count": null,
      "outputs": []
    },
    {
      "cell_type": "code",
      "source": [
        "model.compile(\n",
        "    loss = 'categorical_crossentropy',\n",
        "    optimizer = 'adam',\n",
        "    metrics = ['accuracy']\n",
        ")"
      ],
      "metadata": {
        "id": "wMjUIRdLtGwq"
      },
      "execution_count": null,
      "outputs": []
    },
    {
      "cell_type": "code",
      "source": [
        "from tensorflow.keras.preprocessing.image import ImageDataGenerator\n",
        "\n",
        "train_datagen = ImageDataGenerator(\n",
        "                                   shear_range = 0.2,\n",
        "                                   rotation_range = 0.4,\n",
        "                                   zoom_range = 0.2,\n",
        "                                   horizontal_flip = True,\n",
        "                                   preprocessing_function = preprocess_input)\n",
        "valid_datagen = ImageDataGenerator(rescale = 1./255,\n",
        "                                   shear_range = 0.2,\n",
        "                                   zoom_range = 0.2,\n",
        "                                   horizontal_flip = True)\n",
        "\n",
        "test_datagen = ImageDataGenerator(rescale = 1./255)"
      ],
      "metadata": {
        "id": "KkaUXsfutJQ8"
      },
      "execution_count": null,
      "outputs": []
    },
    {
      "cell_type": "code",
      "source": [
        "training_set = train_datagen.flow_from_directory(train_path,\n",
        "                                                 target_size = (224, 224),\n",
        "                                                 batch_size = 32,\n",
        "                                                 class_mode = 'categorical')"
      ],
      "metadata": {
        "colab": {
          "base_uri": "https://localhost:8080/"
        },
        "id": "hWM3atI9tK-7",
        "outputId": "1381de8d-7292-4b14-c2b5-0024264ede43"
      },
      "execution_count": null,
      "outputs": [
        {
          "output_type": "stream",
          "name": "stdout",
          "text": [
            "Found 30819 images belonging to 7 classes.\n"
          ]
        }
      ]
    },
    {
      "cell_type": "code",
      "source": [
        "training_set.class_indices"
      ],
      "metadata": {
        "colab": {
          "base_uri": "https://localhost:8080/"
        },
        "id": "dCYZD2Y0Jpsa",
        "outputId": "ec80735e-cf9c-4d8b-fd76-4ee72ccd7c6b"
      },
      "execution_count": null,
      "outputs": [
        {
          "output_type": "execute_result",
          "data": {
            "text/plain": [
              "{'akiec': 0, 'bcc': 1, 'bkl': 2, 'df': 3, 'mel': 4, 'nv': 5, 'vasc': 6}"
            ]
          },
          "metadata": {},
          "execution_count": 73
        }
      ]
    },
    {
      "cell_type": "code",
      "source": [
        "test_set = test_datagen.flow_from_directory(test_path,\n",
        "                                            target_size = (224, 224),\n",
        "                                            batch_size = 32,\n",
        "                                            class_mode = 'categorical')"
      ],
      "metadata": {
        "colab": {
          "base_uri": "https://localhost:8080/"
        },
        "id": "mNp_L7-ntMsp",
        "outputId": "1f85c9fa-e7e3-4f68-a8ff-5d1ed5c7cbef"
      },
      "execution_count": null,
      "outputs": [
        {
          "output_type": "stream",
          "name": "stdout",
          "text": [
            "Found 3820 images belonging to 7 classes.\n"
          ]
        }
      ]
    },
    {
      "cell_type": "code",
      "source": [
        "valid_set = test_datagen.flow_from_directory(valid_path,\n",
        "                                            target_size = (224, 224),\n",
        "                                            batch_size = 32,\n",
        "                                            class_mode = 'categorical')"
      ],
      "metadata": {
        "colab": {
          "base_uri": "https://localhost:8080/"
        },
        "id": "IVlPRyI_tOm1",
        "outputId": "1375a541-0428-4515-e6f3-7a5b5a208095"
      },
      "execution_count": null,
      "outputs": [
        {
          "output_type": "stream",
          "name": "stdout",
          "text": [
            "Found 3820 images belonging to 7 classes.\n"
          ]
        }
      ]
    },
    {
      "cell_type": "code",
      "source": [
        "from keras.callbacks import ModelCheckpoint, EarlyStopping\n",
        "mc = ModelCheckpoint(\"./best_model2.h5\",\n",
        "                     monitor = \"val_accuracy\",\n",
        "                     verbose = 1, \n",
        "                     save_best_only = True)\n",
        "\n",
        "es = EarlyStopping(monitor = \"val_accuracy\",\n",
        "                   min_delta = 0.01,\n",
        "                   patience = 5,\n",
        "                   verbose = 1\n",
        "                   )\n",
        "cb = [mc,es]"
      ],
      "metadata": {
        "id": "14P651Ce2_i_"
      },
      "execution_count": null,
      "outputs": []
    },
    {
      "cell_type": "code",
      "source": [
        "from tensorflow.keras.optimizers import SGD"
      ],
      "metadata": {
        "id": "mEMaU5VEQ2xN"
      },
      "execution_count": null,
      "outputs": []
    },
    {
      "cell_type": "code",
      "source": [
        "inception = InceptionV3(input_shape=IMAGE_SIZE + [3], weights='imagenet', include_top=False)"
      ],
      "metadata": {
        "id": "H0shsrDzs3vU"
      },
      "execution_count": null,
      "outputs": []
    },
    {
      "cell_type": "code",
      "source": [
        "# fit the model\n",
        "# Run the cell. It will take some time to execute\n",
        "r = model.fit_generator(\n",
        "    training_set,\n",
        "    validation_data=test_set,\n",
        "    epochs=2,\n",
        "    steps_per_epoch=len(training_set),\n",
        "    validation_steps=len(test_set),\n",
        "    callbacks = cb\n",
        ")"
      ],
      "metadata": {
        "colab": {
          "base_uri": "https://localhost:8080/"
        },
        "id": "1Yx50CPztQgr",
        "outputId": "9f0c97c7-fb05-46c3-dc51-9afd92adf6d0"
      },
      "execution_count": null,
      "outputs": [
        {
          "output_type": "stream",
          "name": "stderr",
          "text": [
            "<ipython-input-79-48174fe4ea9c>:3: UserWarning: `Model.fit_generator` is deprecated and will be removed in a future version. Please use `Model.fit`, which supports generators.\n",
            "  r = model.fit_generator(\n"
          ]
        },
        {
          "output_type": "stream",
          "name": "stdout",
          "text": [
            "Epoch 1/2\n",
            "964/964 [==============================] - ETA: 0s - loss: 4.0574 - accuracy: 0.5500\n",
            "Epoch 1: val_accuracy improved from -inf to 0.62827, saving model to ./best_model2.h5\n",
            "964/964 [==============================] - 448s 460ms/step - loss: 4.0574 - accuracy: 0.5500 - val_loss: 3.2767 - val_accuracy: 0.6283\n",
            "Epoch 2/2\n",
            "964/964 [==============================] - ETA: 0s - loss: 3.7703 - accuracy: 0.6322\n",
            "Epoch 2: val_accuracy improved from 0.62827 to 0.65759, saving model to ./best_model2.h5\n",
            "964/964 [==============================] - 436s 452ms/step - loss: 3.7703 - accuracy: 0.6322 - val_loss: 3.3197 - val_accuracy: 0.6576\n"
          ]
        }
      ]
    },
    {
      "cell_type": "code",
      "source": [
        "h = r.history\n",
        "h.keys()"
      ],
      "metadata": {
        "id": "XCyNnHp6Msqa"
      },
      "execution_count": null,
      "outputs": []
    },
    {
      "cell_type": "code",
      "source": [
        "import matplotlib.pyplot as plt\n",
        "plt.plot(h['loss'],'go--', c = \"red\")\n",
        "plt.plot(h['accuracy'], 'go--')\n",
        "plt.axis = False\n",
        "plt.title(\"Loss vs accuracy\")\n",
        "plt.show()"
      ],
      "metadata": {
        "id": "MtWTr03l60o2"
      },
      "execution_count": null,
      "outputs": []
    },
    {
      "cell_type": "code",
      "source": [
        "from tensorflow.keras.preprocessing.image import load_img, img_to_array\n",
        "from keras.models import load_model"
      ],
      "metadata": {
        "id": "EK0VL-F-8JIc"
      },
      "execution_count": null,
      "outputs": []
    },
    {
      "cell_type": "code",
      "source": [
        "model = load_model(\"/content/best_model2.h5\")"
      ],
      "metadata": {
        "id": "2fU04uClK6L0"
      },
      "execution_count": null,
      "outputs": []
    },
    {
      "cell_type": "code",
      "source": [
        "path = \"/content/Processed TVT/ valid/akiec/ISIC_0024948.jpg\"\n",
        "# path = \"/content/Processed TVT/ valid/nv/ISIC_0024309.jpg\"\n",
        "# path = '/content/Processed TVT/ valid/vasc/ISIC_0024370.jpg'\n",
        "img = load_img(path, target_size = (224, 224))\n",
        "i = image.img_to_array(img)\n",
        "i = preprocess_input(i)\n",
        "\n",
        "input_arr = np.array([i])\n",
        "# input_arr.shape\n",
        "pred = np.argmax(model.predict(input_arr))\n",
        "\n",
        "print(\"prediction:\",pred)\n",
        "\n",
        "plt.imshow(input_arr[0])"
      ],
      "metadata": {
        "id": "2y6p10Iv7ko5"
      },
      "execution_count": null,
      "outputs": []
    },
    {
      "cell_type": "code",
      "source": [],
      "metadata": {
        "id": "XorQFKei7WHE"
      },
      "execution_count": null,
      "outputs": []
    }
  ]
}