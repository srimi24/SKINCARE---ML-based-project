{
  "nbformat": 4,
  "nbformat_minor": 0,
  "metadata": {
    "colab": {
      "provenance": []
    },
    "kernelspec": {
      "name": "python3",
      "display_name": "Python 3"
    },
    "language_info": {
      "name": "python"
    },
    "accelerator": "GPU",
    "gpuClass": "standard"
  },
  "cells": [
    {
      "cell_type": "code",
      "execution_count": 4,
      "metadata": {
        "id": "5ZhNbo7zi6xK"
      },
      "outputs": [],
      "source": [
        "!mkdir -p ~/.kaggle\n",
        "!cp kaggle.json ~/.kaggle/"
      ]
    },
    {
      "cell_type": "code",
      "source": [
        "!kaggle datasets download -d shubhamgoel27/dermnet"
      ],
      "metadata": {
        "colab": {
          "base_uri": "https://localhost:8080/"
        },
        "id": "cnQuL9lrkVIC",
        "outputId": "4f042b72-240d-4544-9f64-a4931f4bf74e"
      },
      "execution_count": 5,
      "outputs": [
        {
          "output_type": "stream",
          "name": "stdout",
          "text": [
            "Warning: Your Kaggle API key is readable by other users on this system! To fix this, you can run 'chmod 600 /root/.kaggle/kaggle.json'\n",
            "Downloading dermnet.zip to /content\n",
            "100% 1.72G/1.72G [00:10<00:00, 211MB/s]\n",
            "100% 1.72G/1.72G [00:10<00:00, 178MB/s]\n"
          ]
        }
      ]
    },
    {
      "cell_type": "code",
      "source": [
        "import zipfile\n",
        "zip_ref = zipfile.ZipFile('/content/dermnet.zip','r')\n",
        "zip_ref.extractall('/content')\n",
        "zip_ref.close()"
      ],
      "metadata": {
        "id": "IBpQg8L1kuGQ"
      },
      "execution_count": 7,
      "outputs": []
    },
    {
      "cell_type": "code",
      "source": [
        "import tensorflow as tf\n",
        "from tensorflow import keras\n",
        "from keras import Sequential\n",
        "from keras.layers import Dense,Conv2D,MaxPooling2D,Flatten"
      ],
      "metadata": {
        "id": "Ztn1mlMXlIhw"
      },
      "execution_count": 8,
      "outputs": []
    },
    {
      "cell_type": "code",
      "source": [
        "#generators (to divide data into batches - too many images !)\n",
        "train_ds = keras.utils.image_dataset_from_directory(\n",
        "    directory = '/content/train',\n",
        "    labels = 'inferred',\n",
        "    label_mode = 'int',\n",
        "    batch_size = 32,\n",
        "    image_size = (256,256) # making every image size same\n",
        ")\n",
        "\n",
        "validation_ds = keras.utils.image_dataset_from_directory(\n",
        "    directory = '/content/test',\n",
        "    labels = 'inferred',\n",
        "    label_mode = 'int',\n",
        "    batch_size = 32,\n",
        "    image_size = (256,256) # making every image size same\n",
        ")"
      ],
      "metadata": {
        "colab": {
          "base_uri": "https://localhost:8080/"
        },
        "id": "wPbcY1OOlvwQ",
        "outputId": "a7df9f7c-0fe7-4a53-e7a2-9d8a55325494"
      },
      "execution_count": 9,
      "outputs": [
        {
          "output_type": "stream",
          "name": "stdout",
          "text": [
            "Found 15557 files belonging to 23 classes.\n",
            "Found 4002 files belonging to 23 classes.\n"
          ]
        }
      ]
    },
    {
      "cell_type": "code",
      "source": [
        "# writing down some explanations in comments\n",
        "# validation for testing\n",
        "# we have stored the images in numpy array\n",
        "# numpy array values range from 0 to 255 , we need to bring that down to 0 to 1\n",
        "# Normalize\n",
        "\n",
        "def process(image,label):\n",
        "  image = tf.cast(image/255,tf.float32)\n",
        "  return image,label\n",
        "train_ds = train_ds.map(process)\n",
        "validation_ds = validation_ds.map(process)\n",
        "\n",
        "#using map to take each image and label,perform the transformation and return\n",
        "#we are doing this because we want all pixels to be in the range 0 to 1\n",
        "#now , data is ready"
      ],
      "metadata": {
        "id": "VL-h6srsomWD"
      },
      "execution_count": 10,
      "outputs": []
    },
    {
      "cell_type": "code",
      "source": [
        "# create CNN model\n",
        "# we will make an architecture where we will have three convolution layers - \n",
        "# first layer -  32 filters\n",
        "# second layer - 64 filters\n",
        "# third layer - 128 filters\n",
        "\n",
        "model = Sequential()\n",
        "#first layer\n",
        "#pooling layer\n",
        "model.add(Conv2D(32,kernel_size=(3,3),padding = 'valid',activation='relu',input_shape =(256,256,3)))\n",
        "model.add(MaxPooling2D(pool_size=(2,2),strides = 2,padding='valid'))\n",
        "\n",
        "model.add(Conv2D(64,kernel_size=(3,3),padding = 'valid',activation='relu',input_shape =(256,256,3)))\n",
        "model.add(MaxPooling2D(pool_size=(2,2),strides = 2,padding='valid'))\n",
        "\n",
        "model.add(Conv2D(128,kernel_size=(3,3),padding = 'valid',activation='relu',input_shape =(256,256,3)))\n",
        "model.add(MaxPooling2D(pool_size=(2,2),strides = 2,padding='valid'))\n",
        "\n",
        "model.add(Flatten())\n",
        "\n",
        "model.add(Dense(128,activation = 'relu'))\n",
        "model.add(Dense(64,activation='relu'))\n",
        "model.add(Dense(1,activation='sigmoid'))"
      ],
      "metadata": {
        "id": "4SewDYZuqHf8"
      },
      "execution_count": 11,
      "outputs": []
    },
    {
      "cell_type": "code",
      "source": [
        "model.summary()\n"
      ],
      "metadata": {
        "colab": {
          "base_uri": "https://localhost:8080/"
        },
        "id": "FBnl16DIr9ad",
        "outputId": "36256663-a49e-4218-8258-75e0ed2eafa7"
      },
      "execution_count": 12,
      "outputs": [
        {
          "output_type": "stream",
          "name": "stdout",
          "text": [
            "Model: \"sequential\"\n",
            "_________________________________________________________________\n",
            " Layer (type)                Output Shape              Param #   \n",
            "=================================================================\n",
            " conv2d (Conv2D)             (None, 254, 254, 32)      896       \n",
            "                                                                 \n",
            " max_pooling2d (MaxPooling2D  (None, 127, 127, 32)     0         \n",
            " )                                                               \n",
            "                                                                 \n",
            " conv2d_1 (Conv2D)           (None, 125, 125, 64)      18496     \n",
            "                                                                 \n",
            " max_pooling2d_1 (MaxPooling  (None, 62, 62, 64)       0         \n",
            " 2D)                                                             \n",
            "                                                                 \n",
            " conv2d_2 (Conv2D)           (None, 60, 60, 128)       73856     \n",
            "                                                                 \n",
            " max_pooling2d_2 (MaxPooling  (None, 30, 30, 128)      0         \n",
            " 2D)                                                             \n",
            "                                                                 \n",
            " flatten (Flatten)           (None, 115200)            0         \n",
            "                                                                 \n",
            " dense (Dense)               (None, 128)               14745728  \n",
            "                                                                 \n",
            " dense_1 (Dense)             (None, 64)                8256      \n",
            "                                                                 \n",
            " dense_2 (Dense)             (None, 1)                 65        \n",
            "                                                                 \n",
            "=================================================================\n",
            "Total params: 14,847,297\n",
            "Trainable params: 14,847,297\n",
            "Non-trainable params: 0\n",
            "_________________________________________________________________\n"
          ]
        }
      ]
    },
    {
      "cell_type": "code",
      "source": [
        "model.compile(optimizer = 'adam',loss='categorical_crossentropy',metrics = ['accuracy']) #have adoubt , donno if its binary or categorical \n"
      ],
      "metadata": {
        "id": "opN6L3cesIwv"
      },
      "execution_count": 13,
      "outputs": []
    },
    {
      "cell_type": "code",
      "source": [
        "history = model.fit(train_ds,epochs = 10,validation_data=validation_ds)"
      ],
      "metadata": {
        "colab": {
          "base_uri": "https://localhost:8080/"
        },
        "id": "ZVM1tcMhtCBg",
        "outputId": "b25c7830-c1d6-42eb-9962-e66246d8ba43"
      },
      "execution_count": 14,
      "outputs": [
        {
          "output_type": "stream",
          "name": "stdout",
          "text": [
            "Epoch 1/10\n",
            "487/487 [==============================] - 77s 137ms/step - loss: 0.0000e+00 - accuracy: 0.0740 - val_loss: 0.0000e+00 - val_accuracy: 0.0720\n",
            "Epoch 2/10\n",
            "487/487 [==============================] - 73s 148ms/step - loss: 0.0000e+00 - accuracy: 0.0739 - val_loss: 0.0000e+00 - val_accuracy: 0.0720\n",
            "Epoch 3/10\n",
            "487/487 [==============================] - 62s 126ms/step - loss: 0.0000e+00 - accuracy: 0.0739 - val_loss: 0.0000e+00 - val_accuracy: 0.0720\n",
            "Epoch 4/10\n",
            "487/487 [==============================] - 63s 128ms/step - loss: 0.0000e+00 - accuracy: 0.0739 - val_loss: 0.0000e+00 - val_accuracy: 0.0720\n",
            "Epoch 5/10\n",
            "487/487 [==============================] - 62s 126ms/step - loss: 0.0000e+00 - accuracy: 0.0739 - val_loss: 0.0000e+00 - val_accuracy: 0.0720\n",
            "Epoch 6/10\n",
            "487/487 [==============================] - 61s 123ms/step - loss: 0.0000e+00 - accuracy: 0.0739 - val_loss: 0.0000e+00 - val_accuracy: 0.0720\n",
            "Epoch 7/10\n",
            "487/487 [==============================] - 99s 203ms/step - loss: 0.0000e+00 - accuracy: 0.0739 - val_loss: 0.0000e+00 - val_accuracy: 0.0720\n",
            "Epoch 8/10\n",
            "487/487 [==============================] - 85s 173ms/step - loss: 0.0000e+00 - accuracy: 0.0739 - val_loss: 0.0000e+00 - val_accuracy: 0.0720\n",
            "Epoch 9/10\n",
            "487/487 [==============================] - 63s 127ms/step - loss: 0.0000e+00 - accuracy: 0.0739 - val_loss: 0.0000e+00 - val_accuracy: 0.0720\n",
            "Epoch 10/10\n",
            "487/487 [==============================] - 61s 123ms/step - loss: nan - accuracy: 0.0541 - val_loss: nan - val_accuracy: 0.0780\n"
          ]
        }
      ]
    },
    {
      "cell_type": "code",
      "source": [
        "import matplotlib.pyplot as plt\n",
        "plt.plot(history.history['accuracy'],color='red',label='train')\n",
        "plt.plot(history.history['val_accuracy'],color='blue',label='validation')\n",
        "plt.legend()\n",
        "plt.show()"
      ],
      "metadata": {
        "colab": {
          "base_uri": "https://localhost:8080/",
          "height": 265
        },
        "id": "uuVxaLjhwBXc",
        "outputId": "9b5b3591-49c8-4072-ea75-44079d999e96"
      },
      "execution_count": 15,
      "outputs": [
        {
          "output_type": "display_data",
          "data": {
            "text/plain": [
              "<Figure size 432x288 with 1 Axes>"
            ],
            "image/png": "[encoded data removed]"
          },
          "metadata": {
            "needs_background": "light"
          }
        }
      ]
    },
    {
      "cell_type": "code",
      "source": [
        "plt.plot(history.history['loss'],color='red',label='train')\n",
        "plt.plot(history.history['val_loss'],color='blue',label='validation')\n",
        "plt.legend()\n",
        "plt.show()"
      ],
      "metadata": {
        "colab": {
          "base_uri": "https://localhost:8080/",
          "height": 265
        },
        "id": "h0F-_-VLwYGV",
        "outputId": "b9d489be-fe49-4ffa-971c-8653de9be690"
      },
      "execution_count": 16,
      "outputs": [
        {
          "output_type": "display_data",
          "data": {
            "text/plain": [
              "<Figure size 432x288 with 1 Axes>"
            ],
            "image/png": "[encoded data removed]"
          },
          "metadata": {
            "needs_background": "light"
          }
        }
      ]
    }
  ]
}